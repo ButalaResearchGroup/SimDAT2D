{
 "cells": [
  {
   "cell_type": "code",
   "execution_count": 1,
   "metadata": {},
   "outputs": [
    {
     "ename": "ModuleNotFoundError",
     "evalue": "No module named 'ThinFilmDataCreation'",
     "output_type": "error",
     "traceback": [
      "\u001b[1;31m---------------------------------------------------------------------------\u001b[0m",
      "\u001b[1;31mModuleNotFoundError\u001b[0m                       Traceback (most recent call last)",
      "\u001b[1;32mc:\\Users\\dalverson\\Dropbox (UFL)\\DAlversonShare\\Sorting Single Crystal Background\\Experiments-PCAvsNMF\\Toy_dataset_tool\\thinfilm-toy-data-tool\\Notebooks\\Data_Generation_tutorial.ipynb Cell 1\u001b[0m in \u001b[0;36m<cell line: 1>\u001b[1;34m()\u001b[0m\n\u001b[1;32m----> <a href='vscode-notebook-cell:/c%3A/Users/dalverson/Dropbox%20%28UFL%29/DAlversonShare/Sorting%20Single%20Crystal%20Background/Experiments-PCAvsNMF/Toy_dataset_tool/thinfilm-toy-data-tool/Notebooks/Data_Generation_tutorial.ipynb#W0sZmlsZQ%3D%3D?line=0'>1</a>\u001b[0m \u001b[39mimport\u001b[39;00m \u001b[39mThinFilmDataCreation\u001b[39;00m \u001b[39mas\u001b[39;00m \u001b[39mtfdc\u001b[39;00m\n",
      "\u001b[1;31mModuleNotFoundError\u001b[0m: No module named 'ThinFilmDataCreation'"
     ]
    }
   ],
   "source": [
    "import ThinFilmDataCreation as tfdc"
   ]
  },
  {
   "cell_type": "code",
   "execution_count": null,
   "metadata": {},
   "outputs": [],
   "source": []
  }
 ],
 "metadata": {
  "kernelspec": {
   "display_name": "Research_Sort",
   "language": "python",
   "name": "python3"
  },
  "language_info": {
   "codemirror_mode": {
    "name": "ipython",
    "version": 3
   },
   "file_extension": ".py",
   "mimetype": "text/x-python",
   "name": "python",
   "nbconvert_exporter": "python",
   "pygments_lexer": "ipython3",
   "version": "3.9.6"
  },
  "orig_nbformat": 4,
  "vscode": {
   "interpreter": {
    "hash": "1f4f283a4dd7a5c767cc0b66dd63473be29edef97eb0671f08a1190fe6eb66f9"
   }
  }
 },
 "nbformat": 4,
 "nbformat_minor": 2
}
