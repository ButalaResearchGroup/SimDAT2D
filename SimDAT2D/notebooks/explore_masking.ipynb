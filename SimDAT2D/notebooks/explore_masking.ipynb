{
 "cells": [
  {
   "cell_type": "code",
   "execution_count": null,
   "metadata": {},
   "outputs": [],
   "source": [
    "#Code from Daniel Olds to explore with to make more datasets through pyFAI"
   ]
  },
  {
   "cell_type": "code",
   "execution_count": null,
   "metadata": {},
   "outputs": [],
   "source": [
    "ai_pe.array_from_unit(unit='q_A^-1'))\n",
    "\n",
    "ai_pe.chiArray()\n",
    "\n",
    "import numpy.ma as ma\n",
    "chi = ai_pe.chiArray()\n",
    "mask_this = ma.masked_inside(chi, 0.2, 0.4)\n",
    "\n",
    "def mask_chi_range(ai, chi_min, chi_max):\n",
    "    mask_this = ma.masked_inside(ai.chiArray(), chi_min, chi_max)\n",
    "    return mask_this.mask\n",
    "\n",
    "def rad_to_deg(rad):\n",
    "    return 180.0 / np.pi * rad\n",
    "\n",
    "def deg_to_rad(deg):\n",
    "    return deg * np.pi / 180.0\n",
    "\n",
    "my_im*(mask_chi_range(ai_pe, 0, np.pi))"
   ]
  },
  {
   "cell_type": "code",
   "execution_count": null,
   "metadata": {},
   "outputs": [],
   "source": [
    "from ipywidgets import interact, interactive, fixed, interact_manual\n",
    "import ipywidgets as widgets\n",
    "\n",
    "def f(i):\n",
    "    phi_list = np.arange(0, np.pi,.05)\n",
    "    plt.subplot(121)\n",
    "    plt.cla()\n",
    "\n",
    "    plt.plot(q, I_list[i],c=cc[i],label=round(phi_list[i],3))\n",
    "    plt.legend(loc=0)\n",
    "\n",
    "    plt.subplot(122)\n",
    "    plt.cla()\n",
    "\n",
    "    plt.imshow(mask_list[i])\n",
    "    \n",
    "    plt.show()\n",
    "\n",
    "plt.figure()\n",
    "cc = make_colormap(len(I_list)+10,use_cmap='plasma')\n",
    "\n",
    "interact(f, i=widgets.IntSlider(min=0, max=len(I_list)-1, step=1, value=10));"
   ]
  }
 ],
 "metadata": {
  "language_info": {
   "name": "python"
  }
 },
 "nbformat": 4,
 "nbformat_minor": 2
}
